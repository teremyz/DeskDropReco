{
 "cells": [
  {
   "cell_type": "code",
   "execution_count": 1,
   "metadata": {},
   "outputs": [],
   "source": [
    "import pandas as pd\n",
    "\n",
    "ARTICLES_PATH = \"../data/shared_articles.csv\"\n",
    "INTERACTIONS_PATH = \"../data/users_interactions.csv\"\n",
    "\n",
    "articles_df = pd.read_csv(ARTICLES_PATH)\n",
    "interactions_df = pd.read_csv(INTERACTIONS_PATH)\n",
    "\n",
    "\n",
    "articles_df = articles_df[articles_df[\"eventType\"] == \"CONTENT SHARED\"]\n",
    "articles_df[\"dateTime\"] = pd.to_datetime(articles_df[\"timestamp\"], unit=\"s\")\n",
    "articles_df[\"authorPersonId\"] = articles_df[\"authorPersonId\"].astype(int).astype(str)\n",
    "\n",
    "articles_df = articles_df.merge(\n",
    "    interactions_df[[\"contentId\"]].groupby(\"contentId\").count(),\n",
    "    how=\"inner\",\n",
    "    on=\"contentId\",\n",
    ")\n",
    "\n",
    "articles_df[\n",
    "    [\n",
    "        \"dateTime\",\n",
    "        \"contentId\",\n",
    "        \"authorPersonId\",\n",
    "        \"authorRegion\",\n",
    "        \"authorCountry\",\n",
    "        \"lang\",\n",
    "        \"text\",\n",
    "    ]\n",
    "].to_parquet(\"../feature_stores/articles.parquet\")"
   ]
  },
  {
   "cell_type": "code",
   "execution_count": null,
   "metadata": {},
   "outputs": [],
   "source": []
  }
 ],
 "metadata": {
  "kernelspec": {
   "display_name": "deskdropreco-HMJvrrDP-py3.11",
   "language": "python",
   "name": "python3"
  },
  "language_info": {
   "codemirror_mode": {
    "name": "ipython",
    "version": 3
   },
   "file_extension": ".py",
   "mimetype": "text/x-python",
   "name": "python",
   "nbconvert_exporter": "python",
   "pygments_lexer": "ipython3",
   "version": "3.11.7"
  }
 },
 "nbformat": 4,
 "nbformat_minor": 2
}
